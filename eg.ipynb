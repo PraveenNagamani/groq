{
 "cells": [
  {
   "cell_type": "code",
   "execution_count": 3,
   "metadata": {},
   "outputs": [],
   "source": [
    "# Specify the path to the text file\n",
    "file_path = \"P:/Work/ai models/groqapikey.txt\"\n",
    "\n",
    "# Read the API key from the file\n",
    "with open(file_path, \"r\") as file:\n",
    "    GROQ_API_KEY = file.read().strip()  # .strip() removes any extra whitespace or newline characters"
   ]
  },
  {
   "cell_type": "code",
   "execution_count": null,
   "metadata": {},
   "outputs": [
    {
     "name": "stdout",
     "output_type": "stream",
     "text": [
      "I'd be happy to help you with that.\n",
      "\n",
      "**First Impressions**\n",
      "\n",
      "* The dataset appears to be quite large, with over 1,300 records.\n",
      "* The mean age is around 39 years old, which is relatively young.\n",
      "* The majority of the population is male (50.5%), with a narrow standard deviation indicating a relatively even distribution.\n",
      "* The mean BMI is around 30.6, which is slightly above the healthy range (18.5-24.9).\n",
      "* The average number of children is about 1, which is relatively low.\n",
      "* Around 20% of the population smokes, which is a relatively high percentage.\n",
      "* The regions are not well-balanced, with the majority of the population residing in region 1 (51.6%).\n",
      "\n",
      "**Potential Areas of Investigation**\n",
      "\n",
      "1. **Region with the highest number of claims**: Based on the summary statistics, it appears that region 1 has the highest number of claims (50.1%). You could investigate further by calculating the average claim amount and claim rate for each region to determine which region has the highest claims.\n",
      "2. **Smoking and claims**: With around 20% of the population smoking, it's possible that smoking is a factor in the number of claims. You could investigate the correlation between smoking and the insurance claim variable.\n",
      "3. **BMI and claims**: The mean BMI is slightly above the healthy range, which could indicate potential health issues. You could investigate the correlation between BMI and the insurance claim variable to determine if there's a link.\n",
      "4. **Age and claims**: The mean age is relatively young, but there is a relatively large standard deviation. You could investigate the relationship between age and the insurance claim variable to determine if there's a correlation.\n",
      "5. **Regional differences in demographics**: The regions have different demographics, which could affect the number of claims. You could investigate regional differences in age, sex, children, and smoking rates to determine if there are any correlations.\n",
      "\n",
      "**Questions to Ask**\n",
      "\n",
      "* Are there any significant differences in claims rates between regions?\n",
      "* Is there a correlation between smoking and claims rates?\n",
      "* Is there a correlation between BMI and claims rates?\n",
      "* Are there any other demographic factors that affect claims rates?\n",
      "* Are there any outliers or errors in the data that could be affecting the results?\n",
      "\n",
      "**Next Steps**\n",
      "\n",
      "Based on these insights and questions, I recommend the following next steps:\n",
      "\n",
      "1. Calculate the average claim amount and claim rate for each region.\n",
      "2. Investigate the correlation between smoking and the insurance claim variable.\n",
      "3. Investigate the correlation between BMI and the insurance claim variable.\n",
      "4. Visualize the distribution of claims rates by region to identify any patterns or outliers.\n",
      "5. Consider conducting additional analysis, such as regression analysis or clustering, to identify more nuanced relationships between the variables.\n",
      "\n",
      "I hope this helps! Let me know if you have any further questions or if there's anything else I can help you with.\n"
     ]
    }
   ],
   "source": [
    "import pandas as pd\n",
    "from groq import Groq\n",
    "\n",
    "client = Groq(\n",
    "    api_key=GROQ_API_KEY,\n",
    ")\n",
    "\n",
    "df = pd.read_csv(\"P:/Work/ai models/groq/insurance2.csv\")\n",
    "data_summary = df.describe(include=\"all\").to_string()\n",
    "columns = df.columns.tolist()\n",
    "\n",
    "prompt = f\"\"\"I have the following data summary from an Excel file: Columns: {columns} Summary statistics: {data_summary}\n",
    "Is there a correlation between smoking and claims rates? which region has the highest number of claims?\n",
    "Can you provide insights or suggest patterns I should investigate further?\"\"\"\n",
    "\n",
    "chat_completion = client.chat.completions.create(\n",
    "    messages=[\n",
    "        {\n",
    "            \"role\": \"user\",\n",
    "            \"content\": prompt\n",
    "        }\n",
    "    ],\n",
    "    model=\"llama3-8b-8192\",\n",
    ")\n",
    "\n",
    "print(chat_completion.choices[0].message.content)"
   ]
  },
  {
   "cell_type": "code",
   "execution_count": null,
   "metadata": {},
   "outputs": [],
   "source": []
  }
 ],
 "metadata": {
  "kernelspec": {
   "display_name": "Python 3",
   "language": "python",
   "name": "python3"
  },
  "language_info": {
   "codemirror_mode": {
    "name": "ipython",
    "version": 3
   },
   "file_extension": ".py",
   "mimetype": "text/x-python",
   "name": "python",
   "nbconvert_exporter": "python",
   "pygments_lexer": "ipython3",
   "version": "3.10.7"
  }
 },
 "nbformat": 4,
 "nbformat_minor": 2
}

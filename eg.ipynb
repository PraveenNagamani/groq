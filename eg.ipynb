{
 "cells": [
  {
   "cell_type": "code",
   "execution_count": null,
   "metadata": {},
   "outputs": [],
   "source": [
    "# Specify the path to the text file\n",
    "file_path = \"P:/Work/ai models/groqapikey.txt\"\n",
    "\n",
    "# Read the API key from the file\n",
    "with open(file_path, \"r\") as file:\n",
    "    GROQ_API_KEY = file.read().strip()  # .strip() removes any extra whitespace or newline characters"
   ]
  },
  {
   "cell_type": "code",
   "execution_count": null,
   "metadata": {},
   "outputs": [
    {
     "name": "stdout",
     "output_type": "stream",
     "text": [
      "I'm just a language model, I don't have a physical body or emotions, so I'm not capable of feeling or experiencing things in the same way that humans do. However, I'm functioning properly and ready to assist you with any questions or tasks you may have!\n"
     ]
    }
   ],
   "source": [
    "import pandas as pd\n",
    "from groq import Groq\n",
    "\n",
    "client = Groq(\n",
    "    api_key=GROQ_API_KEY,\n",
    ")\n",
    "\n",
    "df = pd.read_csv(\"P:/Work/ai models/groq/insurance2.csv\")\n",
    "data_summary = df.describe(include=\"all\").to_string()\n",
    "columns = df.columns.tolist()\n",
    "\n",
    "prompt = f\"\"\"I have the following data summary from an Excel file: Columns: {columns} Summary statistics: {data_summary}\n",
    "Can you provide insights or suggest patterns I should investigate further? which region has the highest number of claims?\"\"\"\n",
    "\n",
    "chat_completion = client.chat.completions.create(\n",
    "    messages=[\n",
    "        {\n",
    "            \"role\": \"user\",\n",
    "            \"content\": prompt\n",
    "        }\n",
    "    ],\n",
    "    model=\"llama3-8b-8192\",\n",
    ")\n",
    "\n",
    "print(chat_completion.choices[0].message.content)"
   ]
  },
  {
   "cell_type": "code",
   "execution_count": null,
   "metadata": {},
   "outputs": [],
   "source": []
  }
 ],
 "metadata": {
  "kernelspec": {
   "display_name": "Python 3",
   "language": "python",
   "name": "python3"
  },
  "language_info": {
   "codemirror_mode": {
    "name": "ipython",
    "version": 3
   },
   "file_extension": ".py",
   "mimetype": "text/x-python",
   "name": "python",
   "nbconvert_exporter": "python",
   "pygments_lexer": "ipython3",
   "version": "3.10.7"
  }
 },
 "nbformat": 4,
 "nbformat_minor": 2
}
